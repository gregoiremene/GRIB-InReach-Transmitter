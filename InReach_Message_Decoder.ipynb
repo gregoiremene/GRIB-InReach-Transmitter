{
 "cells": [
  {
   "cell_type": "code",
   "execution_count": 1,
   "id": "68f71928",
   "metadata": {},
   "outputs": [],
   "source": [
    "# Imports\n",
    "import base64\n",
    "import io\n",
    "import zlib\n",
    "from datetime import datetime"
   ]
  },
  {
   "cell_type": "code",
   "execution_count": 2,
   "id": "9264912d",
   "metadata": {},
   "outputs": [],
   "source": [
    "def decode_grib_file(encoded_data, output_path):\n",
    "    \"\"\"\n",
    "    Decodes a base64 encoded and zlib compressed GRIB file and saves it to a specified location.\n",
    "\n",
    "    Args:\n",
    "    - encoded_data (str): The base64 encoded string of the zlib compressed GRIB file content.\n",
    "    - output_path (str): The path where the decoded GRIB file should be saved.\n",
    "\n",
    "    Returns:\n",
    "    - str: Path to the saved file.\n",
    "    \"\"\"\n",
    "\n",
    "    # Split the received data into lines and extract only the message content lines, skipping the order numbers\n",
    "    lines = encoded_data.strip().split(\"\\n\")\n",
    "    encoded_data_without_nrs = ''.join([lines[i] for i in range(len(lines)) if i % 3 == 1])\n",
    "\n",
    "    # Decode the base64 encoded data\n",
    "    zipped_data = base64.b64decode(encoded_data_without_nrs)\n",
    "\n",
    "    # Decompress the zlib data to obtain the original GRIB file\n",
    "    grib_binary = zlib.decompress(zipped_data)\n",
    "\n",
    "    # Save the decoded data to the specified path\n",
    "    with open(output_path, 'wb') as file:\n",
    "        file.write(grib_binary)\n",
    "\n",
    "    return output_path"
   ]
  },
  {
   "cell_type": "code",
   "execution_count": 3,
   "id": "11d05840",
   "metadata": {},
   "outputs": [],
   "source": [
    "# Copy all messages received from the inreach\n",
    "TEXT_RECIEVED = \"\"\"\n",
    "0\n",
    "eJxzD/J0YmAoYWRgkGFiT/jfwJTGwCDJwsHGwMggwcXAwCDKAAIKDP8ZGNgZ2BqsZjD6cDQ0CHcwVr1gv8B+wQEszaDDw8DsKrGCie11zvtNN9+v61SqrExt\n",
    "0\n",
    "1\n",
    "3XrB8LlkpFBTZmmQTYGEp7KXhACDORC447bTgFQ7F55ne99bcurmhm0rFSurUmunTtRSl/B4eLCwVVDFQCbQ+LSCApKdFdjs9CDeTgMmkJ1zjrE3/X28bbWw\n",
    "1\n",
    "2\n",
    "ccxKJecjVxTNYjYceOEjLKaiwJza3i0gI7kp+Rg3nwg2vypmMnChhS8jUX5lOORtWszG0OTNEXBWU1RAwaRTUXWipomXaXhkaqtgVqT2Lq91hwuw+hXJTgPi\n",
    "2\n",
    "3\n",
    "7QT6leGQ/wwDdj0LBsakU9MUbBgKW3ilZCQyGdvPSarY3DLtFdySc00mYsKdI80uBOz1INHekNVL2cUYNB5x8PBLyGRObuOfqpFykKlPcJrIRKPM89eX5T3T\n",
    "3\n",
    "4\n",
    "k/6hfWNjCbYwViI7jB3LpqSxBXw6pvK8j0FZPEqEP0s8orK0y9QsMnPJCVnXiJrLzqYOWMNYifwwFr26g92u5DN7kNqKkL17Vk6S1go7+USde7pepqSXqudl\n",
    "4\n",
    "5\n",
    "XbeQzi+pfrM0CNlLYhgfvDnXlz2RrZRrh/b2Zq4tu4QSziwMOxK2SdV+2p6DFp3XpSU0dNhf9Qnwge0FABvlBNs=\n",
    "5\n",
    "\"\"\"\n",
    "\n",
    "# Define the path where the GRIB file should be saved\n",
    "current_time = datetime.now().strftime('%Y%m%d_%H%M%S')\n",
    "OUTPUT_PATH = f'./decoded_grib_{current_time}.grb'\n",
    "\n",
    "# Use the function to decode and save the GRIB file\n",
    "df = decode_grib_file(TEXT_RECIEVED, OUTPUT_PATH)"
   ]
  },
  {
   "cell_type": "code",
   "execution_count": null,
   "id": "49fc1456",
   "metadata": {},
   "outputs": [],
   "source": []
  },
  {
   "cell_type": "code",
   "execution_count": null,
   "id": "45bfacb7-6c4f-40ca-b229-8e0297b4ae08",
   "metadata": {},
   "outputs": [],
   "source": []
  }
 ],
 "metadata": {
  "kernelspec": {
   "display_name": "Python 3 (ipykernel)",
   "language": "python",
   "name": "python3"
  },
  "language_info": {
   "codemirror_mode": {
    "name": "ipython",
    "version": 3
   },
   "file_extension": ".py",
   "mimetype": "text/x-python",
   "name": "python",
   "nbconvert_exporter": "python",
   "pygments_lexer": "ipython3",
   "version": "3.9.1"
  }
 },
 "nbformat": 4,
 "nbformat_minor": 5
}
